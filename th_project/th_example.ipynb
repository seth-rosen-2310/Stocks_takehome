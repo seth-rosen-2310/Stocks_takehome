{
 "cells": [
  {
   "cell_type": "code",
   "execution_count": 1,
   "metadata": {},
   "outputs": [],
   "source": [
    "import base64\n",
    "from openai import OpenAI\n",
    "from pdf2image import convert_from_path\n",
    "import os\n",
    "\n",
    "\n"
   ]
  },
  {
   "cell_type": "markdown",
   "metadata": {},
   "source": [
    "### Simple Example of the functionality found in Django app being run for the example in the takehome writeup"
   ]
  },
  {
   "cell_type": "code",
   "execution_count": 20,
   "metadata": {},
   "outputs": [],
   "source": [
    "\n",
    "def get_investment_info(client, content):\n",
    "\n",
    "  response = client.chat.completions.create(\n",
    "    model=\"gpt-4o-mini\",\n",
    "    messages=[\n",
    "      {\n",
    "        \"role\": \"user\",\n",
    "        \"content\": content\n",
    "      }\n",
    "    ],\n",
    "    max_tokens=1000,\n",
    "    temperature=0.01,\n",
    "  )\n",
    "\n",
    "  return response.choices[0].message.content"
   ]
  },
  {
   "cell_type": "code",
   "execution_count": 18,
   "metadata": {},
   "outputs": [],
   "source": [
    "api_key = \"\"\n",
    "client = OpenAI(\n",
    "    api_key=api_key\n",
    "  )"
   ]
  },
  {
   "cell_type": "code",
   "execution_count": 21,
   "metadata": {},
   "outputs": [
    {
     "name": "stdout",
     "output_type": "stream",
     "text": [
      "- **Account owner name:** John W. Doe\n",
      "\n",
      "- **Portfolio value:** $274,222.20\n",
      "\n",
      "- **Name and Total Cost Basis of each holding:**\n",
      "  - FDIC INSURED DEPOSIT AT FIFTH THIRD BANK: $3,500.50\n",
      "  - DOUBLETREE TOTAL RETURN BOND FD CL I (DBLTX): $7,536.91\n",
      "  - FIDELITY INSTL MMKT PORT CL I (FMPXX): $5,025.81\n",
      "  - APPLE INC (AAPL): $8,247.50\n",
      "  - AMERCO COM (UHAL): $4,149.75\n",
      "  - ENSTAR GROUP LIMITED COM STK USD 1.00 (ESGR): $14,510.99\n",
      "  - BANK AMER CORP DEP SHS REPSTG 1/1200TH PFD SER 5 (BMLPRL): $2,470.16\n",
      "  - CITIGROUP INC DEP SHS STG 1/100TH INT NON CUMULATIVE PFD SER F 8.50% (CPRM): $6,895.40\n",
      "  - SABRATEK CORP NT CV: $10,000.00\n",
      "  - CALPINE CORP ESCROW 4 131347BD7: $10,000.00\n",
      "  - NEW YORK NY CITY INDL DEV AGY REV: $10,744.20\n",
      "  - TXU SR NT-P: $5,000.00\n",
      "  - UNITED STATES TREAS BILLS: $10,000.00\n",
      "  - NH PORTFOLIO 2015 (FIDELITY FUNDS): $21,221.14\n",
      "  - NH MODERATE GROWTH PORT (FIDELITY FUNDS): $7,236.76\n"
     ]
    }
   ],
   "source": [
    "client = OpenAI(\n",
    "    api_key=api_key\n",
    "  )\n",
    "\n",
    "x = get_investment_info(client, z)\n",
    "print(x)"
   ]
  },
  {
   "cell_type": "code",
   "execution_count": null,
   "metadata": {},
   "outputs": [],
   "source": []
  }
 ],
 "metadata": {
  "kernelspec": {
   "display_name": "Python 3",
   "language": "python",
   "name": "python3"
  },
  "language_info": {
   "codemirror_mode": {
    "name": "ipython",
    "version": 3
   },
   "file_extension": ".py",
   "mimetype": "text/x-python",
   "name": "python",
   "nbconvert_exporter": "python",
   "pygments_lexer": "ipython3",
   "version": "3.12.4"
  }
 },
 "nbformat": 4,
 "nbformat_minor": 2
}
